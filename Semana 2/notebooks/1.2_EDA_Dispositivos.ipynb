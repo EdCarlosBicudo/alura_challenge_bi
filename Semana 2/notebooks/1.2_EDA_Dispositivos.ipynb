{
 "cells": [
  {
   "cell_type": "code",
   "execution_count": 1,
   "source": [
    "import pandas as pd\r\n",
    "import matplotlib.pyplot as plt\r\n",
    "import seaborn as sns\r\n",
    "import numpy as np\r\n",
    "import locale\r\n",
    "locale.setlocale(locale.LC_ALL, 'pt_BR.UTF-8')"
   ],
   "outputs": [
    {
     "output_type": "execute_result",
     "data": {
      "text/plain": [
       "'pt_BR.UTF-8'"
      ]
     },
     "metadata": {},
     "execution_count": 1
    }
   ],
   "metadata": {}
  },
  {
   "cell_type": "markdown",
   "source": [
    "# Análise Exploratória de Dados (EDA) da tabelas.\r\n",
    "\r\n",
    "### Faço uma análise de cada tabela para entender melhor como são constituídas e se algum campo precisa de tratamento."
   ],
   "metadata": {}
  },
  {
   "cell_type": "markdown",
   "source": [
    "## Análise da Tabela de Dispositivos"
   ],
   "metadata": {}
  },
  {
   "cell_type": "code",
   "execution_count": 2,
   "source": [
    "dados = pd.read_json('../dados/Tabela_dispositivos.json')"
   ],
   "outputs": [],
   "metadata": {}
  },
  {
   "cell_type": "markdown",
   "source": [
    "### Como os dados da Tabela estão no padrão pt_BR, com a ',' como separador decimal, o python entende os valor como String, e não como Float.\r\n",
    "\r\n",
    "Por isso faço o processo de localização para serem entendidos como Float pelo python"
   ],
   "metadata": {}
  },
  {
   "cell_type": "code",
   "execution_count": 3,
   "source": [
    "def convert(value):\r\n",
    "    if not value:\r\n",
    "        return np.nan\r\n",
    "    return locale.atof(value)"
   ],
   "outputs": [],
   "metadata": {}
  },
  {
   "cell_type": "code",
   "execution_count": 4,
   "source": [
    "dados['Quantia gasta (BRL)'] = dados['Quantia gasta (BRL)'].map(convert)\r\n",
    "\r\n",
    "dados['Cliques em links'] = dados['Cliques em links'].map(convert)\r\n",
    "\r\n",
    "dados['Visualizações por página'] = dados['Visualizações por página'].map(convert)\r\n",
    "\r\n",
    "dados['Compras no website'] = dados['Compras no website'].map(convert)\r\n",
    "\r\n",
    "dados['Compras no facebook'] = dados['Compras no facebook'].map(convert)\r\n",
    "\r\n",
    "dados['Adicionados ao carrinho'] = dados['Adicionados ao carrinho'].map(convert)\r\n",
    "\r\n",
    "dados['Valor de conversão adicionado ao carrinho'] = dados['Valor de conversão adicionado ao carrinho'].map(convert)\r\n",
    "\r\n",
    "dados['Checkouts Iniciados'] = dados['Checkouts Iniciados'].map(convert)\r\n",
    "\r\n",
    "dados['Valor de conversão de checkouts iniciados'] = dados['Valor de conversão de checkouts iniciados'].map(convert)\r\n",
    "\r\n",
    "dados['Valor de conversão de compras'] = dados['Valor de conversão de compras'].map(convert)\r\n",
    "\r\n",
    "dados['Compras'] = dados['Compras'].map(convert)"
   ],
   "outputs": [],
   "metadata": {}
  },
  {
   "cell_type": "code",
   "execution_count": 5,
   "source": [
    "dados.head()"
   ],
   "outputs": [
    {
     "output_type": "execute_result",
     "data": {
      "text/html": [
       "<div>\n",
       "<style scoped>\n",
       "    .dataframe tbody tr th:only-of-type {\n",
       "        vertical-align: middle;\n",
       "    }\n",
       "\n",
       "    .dataframe tbody tr th {\n",
       "        vertical-align: top;\n",
       "    }\n",
       "\n",
       "    .dataframe thead th {\n",
       "        text-align: right;\n",
       "    }\n",
       "</style>\n",
       "<table border=\"1\" class=\"dataframe\">\n",
       "  <thead>\n",
       "    <tr style=\"text-align: right;\">\n",
       "      <th></th>\n",
       "      <th>Dia</th>\n",
       "      <th>Plataforma do dispositivo</th>\n",
       "      <th>Colocação</th>\n",
       "      <th>Plataforma</th>\n",
       "      <th>Alcance</th>\n",
       "      <th>Impressões</th>\n",
       "      <th>Quantia gasta (BRL)</th>\n",
       "      <th>Cliques em links</th>\n",
       "      <th>Visualizações por página</th>\n",
       "      <th>Compras no website</th>\n",
       "      <th>Compras no facebook</th>\n",
       "      <th>Adicionados ao carrinho</th>\n",
       "      <th>Valor de conversão adicionado ao carrinho</th>\n",
       "      <th>Checkouts Iniciados</th>\n",
       "      <th>Valor de conversão de checkouts iniciados</th>\n",
       "      <th>Valor de conversão de compras</th>\n",
       "      <th>Compras</th>\n",
       "    </tr>\n",
       "  </thead>\n",
       "  <tbody>\n",
       "    <tr>\n",
       "      <th>0</th>\n",
       "      <td>2021-07-31</td>\n",
       "      <td>All</td>\n",
       "      <td>All</td>\n",
       "      <td>All</td>\n",
       "      <td>12440.0</td>\n",
       "      <td>16114.0</td>\n",
       "      <td>72.66</td>\n",
       "      <td>141.0</td>\n",
       "      <td>101.0</td>\n",
       "      <td>6.0</td>\n",
       "      <td>NaN</td>\n",
       "      <td>48.0</td>\n",
       "      <td>5277.8</td>\n",
       "      <td>30.0</td>\n",
       "      <td>NaN</td>\n",
       "      <td>853.59</td>\n",
       "      <td>6.0</td>\n",
       "    </tr>\n",
       "    <tr>\n",
       "      <th>1</th>\n",
       "      <td>2021-07-31</td>\n",
       "      <td>mobile_web</td>\n",
       "      <td>All</td>\n",
       "      <td>All</td>\n",
       "      <td>104.0</td>\n",
       "      <td>170.0</td>\n",
       "      <td>0.49</td>\n",
       "      <td>NaN</td>\n",
       "      <td>NaN</td>\n",
       "      <td>NaN</td>\n",
       "      <td>NaN</td>\n",
       "      <td>NaN</td>\n",
       "      <td>NaN</td>\n",
       "      <td>NaN</td>\n",
       "      <td>NaN</td>\n",
       "      <td>NaN</td>\n",
       "      <td>NaN</td>\n",
       "    </tr>\n",
       "    <tr>\n",
       "      <th>2</th>\n",
       "      <td>2021-07-31</td>\n",
       "      <td>mobile_web</td>\n",
       "      <td>feed</td>\n",
       "      <td>All</td>\n",
       "      <td>104.0</td>\n",
       "      <td>170.0</td>\n",
       "      <td>0.49</td>\n",
       "      <td>NaN</td>\n",
       "      <td>NaN</td>\n",
       "      <td>NaN</td>\n",
       "      <td>NaN</td>\n",
       "      <td>NaN</td>\n",
       "      <td>NaN</td>\n",
       "      <td>NaN</td>\n",
       "      <td>NaN</td>\n",
       "      <td>NaN</td>\n",
       "      <td>NaN</td>\n",
       "    </tr>\n",
       "    <tr>\n",
       "      <th>3</th>\n",
       "      <td>2021-07-31</td>\n",
       "      <td>mobile_web</td>\n",
       "      <td>feed</td>\n",
       "      <td>facebook</td>\n",
       "      <td>104.0</td>\n",
       "      <td>170.0</td>\n",
       "      <td>0.49</td>\n",
       "      <td>NaN</td>\n",
       "      <td>NaN</td>\n",
       "      <td>NaN</td>\n",
       "      <td>NaN</td>\n",
       "      <td>NaN</td>\n",
       "      <td>NaN</td>\n",
       "      <td>NaN</td>\n",
       "      <td>NaN</td>\n",
       "      <td>NaN</td>\n",
       "      <td>NaN</td>\n",
       "    </tr>\n",
       "    <tr>\n",
       "      <th>4</th>\n",
       "      <td>2021-07-31</td>\n",
       "      <td>mobile_app</td>\n",
       "      <td>All</td>\n",
       "      <td>All</td>\n",
       "      <td>12236.0</td>\n",
       "      <td>15679.0</td>\n",
       "      <td>70.62</td>\n",
       "      <td>136.0</td>\n",
       "      <td>98.0</td>\n",
       "      <td>6.0</td>\n",
       "      <td>NaN</td>\n",
       "      <td>48.0</td>\n",
       "      <td>5277.8</td>\n",
       "      <td>30.0</td>\n",
       "      <td>NaN</td>\n",
       "      <td>853.59</td>\n",
       "      <td>6.0</td>\n",
       "    </tr>\n",
       "  </tbody>\n",
       "</table>\n",
       "</div>"
      ],
      "text/plain": [
       "          Dia Plataforma do dispositivo Colocação Plataforma  Alcance  \\\n",
       "0  2021-07-31                       All       All        All  12440.0   \n",
       "1  2021-07-31                mobile_web       All        All    104.0   \n",
       "2  2021-07-31                mobile_web      feed        All    104.0   \n",
       "3  2021-07-31                mobile_web      feed   facebook    104.0   \n",
       "4  2021-07-31                mobile_app       All        All  12236.0   \n",
       "\n",
       "   Impressões  Quantia gasta (BRL)  Cliques em links  \\\n",
       "0     16114.0                72.66             141.0   \n",
       "1       170.0                 0.49               NaN   \n",
       "2       170.0                 0.49               NaN   \n",
       "3       170.0                 0.49               NaN   \n",
       "4     15679.0                70.62             136.0   \n",
       "\n",
       "   Visualizações por página  Compras no website  Compras no facebook  \\\n",
       "0                     101.0                 6.0                  NaN   \n",
       "1                       NaN                 NaN                  NaN   \n",
       "2                       NaN                 NaN                  NaN   \n",
       "3                       NaN                 NaN                  NaN   \n",
       "4                      98.0                 6.0                  NaN   \n",
       "\n",
       "   Adicionados ao carrinho  Valor de conversão adicionado ao carrinho  \\\n",
       "0                     48.0                                     5277.8   \n",
       "1                      NaN                                        NaN   \n",
       "2                      NaN                                        NaN   \n",
       "3                      NaN                                        NaN   \n",
       "4                     48.0                                     5277.8   \n",
       "\n",
       "   Checkouts Iniciados  Valor de conversão de checkouts iniciados  \\\n",
       "0                 30.0                                        NaN   \n",
       "1                  NaN                                        NaN   \n",
       "2                  NaN                                        NaN   \n",
       "3                  NaN                                        NaN   \n",
       "4                 30.0                                        NaN   \n",
       "\n",
       "   Valor de conversão de compras  Compras  \n",
       "0                         853.59      6.0  \n",
       "1                            NaN      NaN  \n",
       "2                            NaN      NaN  \n",
       "3                            NaN      NaN  \n",
       "4                         853.59      6.0  "
      ]
     },
     "metadata": {},
     "execution_count": 5
    }
   ],
   "metadata": {}
  },
  {
   "cell_type": "markdown",
   "source": [
    "## Vejo que há vários campos com valores nulos. Os que mais chamas a atenção são 'Compras no facebook' e 'Valor de conversão de checkouts iniciados', pelo fato de terem somente valores nulos."
   ],
   "metadata": {}
  },
  {
   "cell_type": "code",
   "execution_count": 6,
   "source": [
    "dados.info()"
   ],
   "outputs": [
    {
     "output_type": "stream",
     "name": "stdout",
     "text": [
      "<class 'pandas.core.frame.DataFrame'>\n",
      "RangeIndex: 819 entries, 0 to 818\n",
      "Data columns (total 17 columns):\n",
      " #   Column                                     Non-Null Count  Dtype  \n",
      "---  ------                                     --------------  -----  \n",
      " 0   Dia                                        819 non-null    object \n",
      " 1   Plataforma do dispositivo                  819 non-null    object \n",
      " 2   Colocação                                  819 non-null    object \n",
      " 3   Plataforma                                 819 non-null    object \n",
      " 4   Alcance                                    742 non-null    float64\n",
      " 5   Impressões                                 812 non-null    float64\n",
      " 6   Quantia gasta (BRL)                        747 non-null    float64\n",
      " 7   Cliques em links                           451 non-null    float64\n",
      " 8   Visualizações por página                   421 non-null    float64\n",
      " 9   Compras no website                         195 non-null    float64\n",
      " 10  Compras no facebook                        0 non-null      float64\n",
      " 11  Adicionados ao carrinho                    322 non-null    float64\n",
      " 12  Valor de conversão adicionado ao carrinho  322 non-null    float64\n",
      " 13  Checkouts Iniciados                        322 non-null    float64\n",
      " 14  Valor de conversão de checkouts iniciados  0 non-null      float64\n",
      " 15  Valor de conversão de compras              195 non-null    float64\n",
      " 16  Compras                                    195 non-null    float64\n",
      "dtypes: float64(13), object(4)\n",
      "memory usage: 108.9+ KB\n"
     ]
    }
   ],
   "metadata": {}
  },
  {
   "cell_type": "markdown",
   "source": [
    "### Olhando o resumo das colunas 'Alcance' e 'Impressões' vejo que os valores máximos parecem bem altos em relação ao resto dos dados."
   ],
   "metadata": {}
  },
  {
   "cell_type": "code",
   "execution_count": 7,
   "source": [
    "dados.describe()"
   ],
   "outputs": [
    {
     "output_type": "execute_result",
     "data": {
      "text/html": [
       "<div>\n",
       "<style scoped>\n",
       "    .dataframe tbody tr th:only-of-type {\n",
       "        vertical-align: middle;\n",
       "    }\n",
       "\n",
       "    .dataframe tbody tr th {\n",
       "        vertical-align: top;\n",
       "    }\n",
       "\n",
       "    .dataframe thead th {\n",
       "        text-align: right;\n",
       "    }\n",
       "</style>\n",
       "<table border=\"1\" class=\"dataframe\">\n",
       "  <thead>\n",
       "    <tr style=\"text-align: right;\">\n",
       "      <th></th>\n",
       "      <th>Alcance</th>\n",
       "      <th>Impressões</th>\n",
       "      <th>Quantia gasta (BRL)</th>\n",
       "      <th>Cliques em links</th>\n",
       "      <th>Visualizações por página</th>\n",
       "      <th>Compras no website</th>\n",
       "      <th>Compras no facebook</th>\n",
       "      <th>Adicionados ao carrinho</th>\n",
       "      <th>Valor de conversão adicionado ao carrinho</th>\n",
       "      <th>Checkouts Iniciados</th>\n",
       "      <th>Valor de conversão de checkouts iniciados</th>\n",
       "      <th>Valor de conversão de compras</th>\n",
       "      <th>Compras</th>\n",
       "    </tr>\n",
       "  </thead>\n",
       "  <tbody>\n",
       "    <tr>\n",
       "      <th>count</th>\n",
       "      <td>742.000000</td>\n",
       "      <td>812.000000</td>\n",
       "      <td>747.000000</td>\n",
       "      <td>451.000000</td>\n",
       "      <td>421.000000</td>\n",
       "      <td>195.000000</td>\n",
       "      <td>0.0</td>\n",
       "      <td>322.000000</td>\n",
       "      <td>322.000000</td>\n",
       "      <td>322.000000</td>\n",
       "      <td>0.0</td>\n",
       "      <td>195.000000</td>\n",
       "      <td>195.000000</td>\n",
       "    </tr>\n",
       "    <tr>\n",
       "      <th>mean</th>\n",
       "      <td>3097.278976</td>\n",
       "      <td>3614.960591</td>\n",
       "      <td>16.735904</td>\n",
       "      <td>79.210643</td>\n",
       "      <td>68.665083</td>\n",
       "      <td>6.051282</td>\n",
       "      <td>NaN</td>\n",
       "      <td>41.465839</td>\n",
       "      <td>4194.805093</td>\n",
       "      <td>25.776398</td>\n",
       "      <td>NaN</td>\n",
       "      <td>681.111179</td>\n",
       "      <td>6.051282</td>\n",
       "    </tr>\n",
       "    <tr>\n",
       "      <th>std</th>\n",
       "      <td>6399.561845</td>\n",
       "      <td>8239.755955</td>\n",
       "      <td>36.935050</td>\n",
       "      <td>143.368034</td>\n",
       "      <td>119.836871</td>\n",
       "      <td>5.526640</td>\n",
       "      <td>NaN</td>\n",
       "      <td>56.046157</td>\n",
       "      <td>5674.284188</td>\n",
       "      <td>34.594487</td>\n",
       "      <td>NaN</td>\n",
       "      <td>621.372426</td>\n",
       "      <td>5.526640</td>\n",
       "    </tr>\n",
       "    <tr>\n",
       "      <th>min</th>\n",
       "      <td>1.000000</td>\n",
       "      <td>1.000000</td>\n",
       "      <td>0.010000</td>\n",
       "      <td>1.000000</td>\n",
       "      <td>1.000000</td>\n",
       "      <td>1.000000</td>\n",
       "      <td>NaN</td>\n",
       "      <td>1.000000</td>\n",
       "      <td>29.900000</td>\n",
       "      <td>1.000000</td>\n",
       "      <td>NaN</td>\n",
       "      <td>29.900000</td>\n",
       "      <td>1.000000</td>\n",
       "    </tr>\n",
       "    <tr>\n",
       "      <th>25%</th>\n",
       "      <td>16.000000</td>\n",
       "      <td>14.750000</td>\n",
       "      <td>0.080000</td>\n",
       "      <td>2.000000</td>\n",
       "      <td>2.000000</td>\n",
       "      <td>2.000000</td>\n",
       "      <td>NaN</td>\n",
       "      <td>3.000000</td>\n",
       "      <td>284.275000</td>\n",
       "      <td>2.000000</td>\n",
       "      <td>NaN</td>\n",
       "      <td>204.550000</td>\n",
       "      <td>2.000000</td>\n",
       "    </tr>\n",
       "    <tr>\n",
       "      <th>50%</th>\n",
       "      <td>174.000000</td>\n",
       "      <td>186.500000</td>\n",
       "      <td>0.910000</td>\n",
       "      <td>5.000000</td>\n",
       "      <td>5.000000</td>\n",
       "      <td>4.000000</td>\n",
       "      <td>NaN</td>\n",
       "      <td>12.000000</td>\n",
       "      <td>1117.100000</td>\n",
       "      <td>8.000000</td>\n",
       "      <td>NaN</td>\n",
       "      <td>475.000000</td>\n",
       "      <td>4.000000</td>\n",
       "    </tr>\n",
       "    <tr>\n",
       "      <th>75%</th>\n",
       "      <td>1800.000000</td>\n",
       "      <td>1234.250000</td>\n",
       "      <td>4.095000</td>\n",
       "      <td>109.500000</td>\n",
       "      <td>100.000000</td>\n",
       "      <td>9.000000</td>\n",
       "      <td>NaN</td>\n",
       "      <td>63.500000</td>\n",
       "      <td>6627.400000</td>\n",
       "      <td>40.000000</td>\n",
       "      <td>NaN</td>\n",
       "      <td>987.265000</td>\n",
       "      <td>9.000000</td>\n",
       "    </tr>\n",
       "    <tr>\n",
       "      <th>max</th>\n",
       "      <td>37216.000000</td>\n",
       "      <td>49688.000000</td>\n",
       "      <td>207.950000</td>\n",
       "      <td>715.000000</td>\n",
       "      <td>609.000000</td>\n",
       "      <td>23.000000</td>\n",
       "      <td>NaN</td>\n",
       "      <td>306.000000</td>\n",
       "      <td>31732.160000</td>\n",
       "      <td>175.000000</td>\n",
       "      <td>NaN</td>\n",
       "      <td>2882.130000</td>\n",
       "      <td>23.000000</td>\n",
       "    </tr>\n",
       "  </tbody>\n",
       "</table>\n",
       "</div>"
      ],
      "text/plain": [
       "            Alcance    Impressões  Quantia gasta (BRL)  Cliques em links  \\\n",
       "count    742.000000    812.000000           747.000000        451.000000   \n",
       "mean    3097.278976   3614.960591            16.735904         79.210643   \n",
       "std     6399.561845   8239.755955            36.935050        143.368034   \n",
       "min        1.000000      1.000000             0.010000          1.000000   \n",
       "25%       16.000000     14.750000             0.080000          2.000000   \n",
       "50%      174.000000    186.500000             0.910000          5.000000   \n",
       "75%     1800.000000   1234.250000             4.095000        109.500000   \n",
       "max    37216.000000  49688.000000           207.950000        715.000000   \n",
       "\n",
       "       Visualizações por página  Compras no website  Compras no facebook  \\\n",
       "count                421.000000          195.000000                  0.0   \n",
       "mean                  68.665083            6.051282                  NaN   \n",
       "std                  119.836871            5.526640                  NaN   \n",
       "min                    1.000000            1.000000                  NaN   \n",
       "25%                    2.000000            2.000000                  NaN   \n",
       "50%                    5.000000            4.000000                  NaN   \n",
       "75%                  100.000000            9.000000                  NaN   \n",
       "max                  609.000000           23.000000                  NaN   \n",
       "\n",
       "       Adicionados ao carrinho  Valor de conversão adicionado ao carrinho  \\\n",
       "count               322.000000                                 322.000000   \n",
       "mean                 41.465839                                4194.805093   \n",
       "std                  56.046157                                5674.284188   \n",
       "min                   1.000000                                  29.900000   \n",
       "25%                   3.000000                                 284.275000   \n",
       "50%                  12.000000                                1117.100000   \n",
       "75%                  63.500000                                6627.400000   \n",
       "max                 306.000000                               31732.160000   \n",
       "\n",
       "       Checkouts Iniciados  Valor de conversão de checkouts iniciados  \\\n",
       "count           322.000000                                        0.0   \n",
       "mean             25.776398                                        NaN   \n",
       "std              34.594487                                        NaN   \n",
       "min               1.000000                                        NaN   \n",
       "25%               2.000000                                        NaN   \n",
       "50%               8.000000                                        NaN   \n",
       "75%              40.000000                                        NaN   \n",
       "max             175.000000                                        NaN   \n",
       "\n",
       "       Valor de conversão de compras     Compras  \n",
       "count                     195.000000  195.000000  \n",
       "mean                      681.111179    6.051282  \n",
       "std                       621.372426    5.526640  \n",
       "min                        29.900000    1.000000  \n",
       "25%                       204.550000    2.000000  \n",
       "50%                       475.000000    4.000000  \n",
       "75%                       987.265000    9.000000  \n",
       "max                      2882.130000   23.000000  "
      ]
     },
     "metadata": {},
     "execution_count": 7
    }
   ],
   "metadata": {}
  },
  {
   "cell_type": "markdown",
   "source": [
    "### Olhando o resumo das colunas 'Alcance' e 'Impressões' vejo que os valores máximos parecem bem altos em relação ao resto dos dados."
   ],
   "metadata": {}
  },
  {
   "cell_type": "code",
   "execution_count": 8,
   "source": [
    "def plot_boxplot(data, x):\r\n",
    "    ax = sns.boxplot(x = x, data = data, orient = 'h')\r\n",
    "    ax.figure.set_size_inches(18, 2)\r\n",
    "    ax.set_title(x, fontsize = 18)\r\n",
    "    ax.set_xlabel(x, fontsize = 14)\r\n",
    "    plt.show()"
   ],
   "outputs": [],
   "metadata": {}
  },
  {
   "cell_type": "code",
   "execution_count": 9,
   "source": [
    "plot_boxplot(dados, 'Alcance')"
   ],
   "outputs": [
    {
     "output_type": "display_data",
     "data": {
      "image/png": "[encoded data removed]",
      "text/plain": [
       "<Figure size 1296x144 with 1 Axes>"
      ]
     },
     "metadata": {
      "needs_background": "light"
     }
    }
   ],
   "metadata": {}
  },
  {
   "cell_type": "code",
   "execution_count": 10,
   "source": [
    "plot_boxplot(dados, 'Impressões')"
   ],
   "outputs": [
    {
     "output_type": "display_data",
     "data": {
      "image/png": "[encoded data removed]",
      "text/plain": [
       "<Figure size 1296x144 with 1 Axes>"
      ]
     },
     "metadata": {
      "needs_background": "light"
     }
    }
   ],
   "metadata": {}
  },
  {
   "cell_type": "code",
   "execution_count": 11,
   "source": [
    "plot_boxplot(dados, 'Quantia gasta (BRL)')"
   ],
   "outputs": [
    {
     "output_type": "display_data",
     "data": {
      "image/png": "[encoded data removed]",
      "text/plain": [
       "<Figure size 1296x144 with 1 Axes>"
      ]
     },
     "metadata": {
      "needs_background": "light"
     }
    }
   ],
   "metadata": {}
  },
  {
   "cell_type": "code",
   "execution_count": 12,
   "source": [
    "plot_boxplot(dados, 'Cliques em links')"
   ],
   "outputs": [
    {
     "output_type": "display_data",
     "data": {
      "image/png": "[encoded data removed]",
      "text/plain": [
       "<Figure size 1296x144 with 1 Axes>"
      ]
     },
     "metadata": {
      "needs_background": "light"
     }
    }
   ],
   "metadata": {}
  },
  {
   "cell_type": "code",
   "execution_count": 13,
   "source": [
    "plot_boxplot(dados, 'Visualizações por página')"
   ],
   "outputs": [
    {
     "output_type": "display_data",
     "data": {
      "image/png": "[encoded data removed]",
      "text/plain": [
       "<Figure size 1296x144 with 1 Axes>"
      ]
     },
     "metadata": {
      "needs_background": "light"
     }
    }
   ],
   "metadata": {}
  },
  {
   "cell_type": "code",
   "execution_count": 14,
   "source": [
    "plot_boxplot(dados, 'Compras no website')"
   ],
   "outputs": [
    {
     "output_type": "display_data",
     "data": {
      "image/png": "[encoded data removed]",
      "text/plain": [
       "<Figure size 1296x144 with 1 Axes>"
      ]
     },
     "metadata": {
      "needs_background": "light"
     }
    }
   ],
   "metadata": {}
  },
  {
   "cell_type": "code",
   "execution_count": 15,
   "source": [
    "plot_boxplot(dados, 'Adicionados ao carrinho')"
   ],
   "outputs": [
    {
     "output_type": "display_data",
     "data": {
      "image/png": "[encoded data removed]",
      "text/plain": [
       "<Figure size 1296x144 with 1 Axes>"
      ]
     },
     "metadata": {
      "needs_background": "light"
     }
    }
   ],
   "metadata": {}
  },
  {
   "cell_type": "code",
   "execution_count": 16,
   "source": [
    "plot_boxplot(dados, 'Valor de conversão adicionado ao carrinho')"
   ],
   "outputs": [
    {
     "output_type": "display_data",
     "data": {
      "image/png": "[encoded data removed]",
      "text/plain": [
       "<Figure size 1296x144 with 1 Axes>"
      ]
     },
     "metadata": {
      "needs_background": "light"
     }
    }
   ],
   "metadata": {}
  },
  {
   "cell_type": "code",
   "execution_count": 17,
   "source": [
    "plot_boxplot(dados, 'Checkouts Iniciados')"
   ],
   "outputs": [
    {
     "output_type": "display_data",
     "data": {
      "image/png": "[encoded data removed]",
      "text/plain": [
       "<Figure size 1296x144 with 1 Axes>"
      ]
     },
     "metadata": {
      "needs_background": "light"
     }
    }
   ],
   "metadata": {}
  },
  {
   "cell_type": "code",
   "execution_count": 18,
   "source": [
    "plot_boxplot(dados, 'Valor de conversão de compras')"
   ],
   "outputs": [
    {
     "output_type": "display_data",
     "data": {
      "image/png": "[encoded data removed]",
      "text/plain": [
       "<Figure size 1296x144 with 1 Axes>"
      ]
     },
     "metadata": {
      "needs_background": "light"
     }
    }
   ],
   "metadata": {}
  },
  {
   "cell_type": "code",
   "execution_count": 19,
   "source": [
    "plot_boxplot(dados, 'Compras')"
   ],
   "outputs": [
    {
     "output_type": "display_data",
     "data": {
      "image/png": "[encoded data removed]",
      "text/plain": [
       "<Figure size 1296x144 with 1 Axes>"
      ]
     },
     "metadata": {
      "needs_background": "light"
     }
    }
   ],
   "metadata": {}
  }
 ],
 "metadata": {
  "orig_nbformat": 4,
  "language_info": {
   "name": "python",
   "version": "3.8.8",
   "mimetype": "text/x-python",
   "codemirror_mode": {
    "name": "ipython",
    "version": 3
   },
   "pygments_lexer": "ipython3",
   "nbconvert_exporter": "python",
   "file_extension": ".py"
  },
  "kernelspec": {
   "name": "python3",
   "display_name": "Python 3.8.8 64-bit ('data_science': conda)"
  },
  "interpreter": {
   "hash": "5e1cf47aa203f6c08ac1e1b9cf16483ccbe851a0d40c55131d078e5221593cd4"
  }
 },
 "nbformat": 4,
 "nbformat_minor": 2
}