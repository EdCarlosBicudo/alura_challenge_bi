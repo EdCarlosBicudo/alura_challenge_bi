{
 "cells": [
  {
   "cell_type": "code",
   "execution_count": 1,
   "source": [
    "import pandas as pd\r\n",
    "import matplotlib.pyplot as plt\r\n",
    "import seaborn as sns\r\n",
    "import numpy as np\r\n",
    "import locale\r\n",
    "locale.setlocale(locale.LC_ALL, 'pt_BR.UTF-8')"
   ],
   "outputs": [
    {
     "output_type": "execute_result",
     "data": {
      "text/plain": [
       "'pt_BR.UTF-8'"
      ]
     },
     "metadata": {},
     "execution_count": 1
    }
   ],
   "metadata": {}
  },
  {
   "cell_type": "markdown",
   "source": [
    "# Análise Exploratória de Dados (EDA) da tabelas.\r\n",
    "\r\n",
    "### Faço uma análise de cada tabela para entender melhor como são constituídas e se algum campo precisa de tratamento."
   ],
   "metadata": {}
  },
  {
   "cell_type": "markdown",
   "source": [
    "## Análise da Tabela de Idade e Gênero"
   ],
   "metadata": {}
  },
  {
   "cell_type": "code",
   "execution_count": 2,
   "source": [
    "dados = pd.read_json(\"../dados/Tabela_idade_e_genero.json\")"
   ],
   "outputs": [],
   "metadata": {}
  },
  {
   "cell_type": "markdown",
   "source": [
    "### Como os dados da Tabela estão no padrão pt_BR, com a ',' como separador decimal, o python entende os valor como String, e não como Float.\r\n",
    "\r\n",
    "Por isso faço o processo de localização para serem entendidos como Float pelo python"
   ],
   "metadata": {}
  },
  {
   "cell_type": "code",
   "execution_count": 3,
   "source": [
    "def convert(value):\r\n",
    "    if not value:\r\n",
    "        return np.nan\r\n",
    "    return locale.atof(value)"
   ],
   "outputs": [],
   "metadata": {}
  },
  {
   "cell_type": "code",
   "execution_count": 4,
   "source": [
    "dados['Quantia gasta (BRL)'] = dados['Quantia gasta (BRL)'].map(convert)\r\n",
    "\r\n",
    "dados['Cliques no link'] = dados['Cliques no link'].map(convert)\r\n",
    "\r\n",
    "dados['Visualizações por página'] = dados['Visualizações por página'].map(convert)\r\n",
    "\r\n",
    "dados['Compras no website'] = dados['Compras no website'].map(convert)\r\n",
    "\r\n",
    "dados['Compras no facebook'] = dados['Compras no facebook'].map(convert)\r\n",
    "\r\n",
    "dados['Adicionados ao carrinho'] = dados['Adicionados ao carrinho'].map(convert)\r\n",
    "\r\n",
    "dados['Valor de conversão adicionado ao carrinho'] = dados['Valor de conversão adicionado ao carrinho'].map(convert)\r\n",
    "\r\n",
    "dados['Checkouts Iniciados'] = dados['Checkouts Iniciados'].map(convert)\r\n",
    "\r\n",
    "dados['Valor de conversão de checkouts iniciados'] = dados['Valor de conversão de checkouts iniciados'].map(convert)\r\n",
    "\r\n",
    "dados['Valor de conversão de compras'] = dados['Valor de conversão de compras'].map(convert)\r\n",
    "\r\n",
    "dados['Compras'] = dados['Compras'].map(convert)"
   ],
   "outputs": [],
   "metadata": {}
  },
  {
   "cell_type": "code",
   "execution_count": 5,
   "source": [
    "dados.head()"
   ],
   "outputs": [
    {
     "output_type": "execute_result",
     "data": {
      "text/html": [
       "<div>\n",
       "<style scoped>\n",
       "    .dataframe tbody tr th:only-of-type {\n",
       "        vertical-align: middle;\n",
       "    }\n",
       "\n",
       "    .dataframe tbody tr th {\n",
       "        vertical-align: top;\n",
       "    }\n",
       "\n",
       "    .dataframe thead th {\n",
       "        text-align: right;\n",
       "    }\n",
       "</style>\n",
       "<table border=\"1\" class=\"dataframe\">\n",
       "  <thead>\n",
       "    <tr style=\"text-align: right;\">\n",
       "      <th></th>\n",
       "      <th>Idade</th>\n",
       "      <th>Gênero</th>\n",
       "      <th>Dia</th>\n",
       "      <th>FIELD4</th>\n",
       "      <th>Alcance</th>\n",
       "      <th>Impressões</th>\n",
       "      <th>Quantia gasta (BRL)</th>\n",
       "      <th>Cliques no link</th>\n",
       "      <th>Visualizações por página</th>\n",
       "      <th>Compras no website</th>\n",
       "      <th>Compras no facebook</th>\n",
       "      <th>Adicionados ao carrinho</th>\n",
       "      <th>Valor de conversão adicionado ao carrinho</th>\n",
       "      <th>Checkouts Iniciados</th>\n",
       "      <th>Valor de conversão de checkouts iniciados</th>\n",
       "      <th>Valor de conversão de compras</th>\n",
       "      <th>Compras</th>\n",
       "    </tr>\n",
       "  </thead>\n",
       "  <tbody>\n",
       "    <tr>\n",
       "      <th>0</th>\n",
       "      <td>45-54</td>\n",
       "      <td>Feminino</td>\n",
       "      <td>2021-07-31</td>\n",
       "      <td></td>\n",
       "      <td>1116.0</td>\n",
       "      <td>1489.0</td>\n",
       "      <td>9.42</td>\n",
       "      <td>24.0</td>\n",
       "      <td>20.0</td>\n",
       "      <td>NaN</td>\n",
       "      <td>NaN</td>\n",
       "      <td>1.0</td>\n",
       "      <td>63.9</td>\n",
       "      <td>1.0</td>\n",
       "      <td>NaN</td>\n",
       "      <td>NaN</td>\n",
       "      <td>NaN</td>\n",
       "    </tr>\n",
       "    <tr>\n",
       "      <th>1</th>\n",
       "      <td>35-44</td>\n",
       "      <td>Outros</td>\n",
       "      <td>2021-07-31</td>\n",
       "      <td></td>\n",
       "      <td>4.0</td>\n",
       "      <td>5.0</td>\n",
       "      <td>0.03</td>\n",
       "      <td>NaN</td>\n",
       "      <td>NaN</td>\n",
       "      <td>NaN</td>\n",
       "      <td>NaN</td>\n",
       "      <td>NaN</td>\n",
       "      <td>NaN</td>\n",
       "      <td>NaN</td>\n",
       "      <td>NaN</td>\n",
       "      <td>NaN</td>\n",
       "      <td>NaN</td>\n",
       "    </tr>\n",
       "    <tr>\n",
       "      <th>2</th>\n",
       "      <td>45-54</td>\n",
       "      <td>Outros</td>\n",
       "      <td>2021-07-31</td>\n",
       "      <td></td>\n",
       "      <td>3.0</td>\n",
       "      <td>3.0</td>\n",
       "      <td>NaN</td>\n",
       "      <td>NaN</td>\n",
       "      <td>NaN</td>\n",
       "      <td>NaN</td>\n",
       "      <td>NaN</td>\n",
       "      <td>NaN</td>\n",
       "      <td>NaN</td>\n",
       "      <td>NaN</td>\n",
       "      <td>NaN</td>\n",
       "      <td>NaN</td>\n",
       "      <td>NaN</td>\n",
       "    </tr>\n",
       "    <tr>\n",
       "      <th>3</th>\n",
       "      <td>65+</td>\n",
       "      <td>Masculino</td>\n",
       "      <td>2021-07-31</td>\n",
       "      <td></td>\n",
       "      <td>24.0</td>\n",
       "      <td>36.0</td>\n",
       "      <td>0.11</td>\n",
       "      <td>NaN</td>\n",
       "      <td>NaN</td>\n",
       "      <td>NaN</td>\n",
       "      <td>NaN</td>\n",
       "      <td>NaN</td>\n",
       "      <td>NaN</td>\n",
       "      <td>NaN</td>\n",
       "      <td>NaN</td>\n",
       "      <td>NaN</td>\n",
       "      <td>NaN</td>\n",
       "    </tr>\n",
       "    <tr>\n",
       "      <th>4</th>\n",
       "      <td>25</td>\n",
       "      <td>Outros</td>\n",
       "      <td>2021-07-31</td>\n",
       "      <td></td>\n",
       "      <td>4.0</td>\n",
       "      <td>4.0</td>\n",
       "      <td>0.01</td>\n",
       "      <td>NaN</td>\n",
       "      <td>NaN</td>\n",
       "      <td>NaN</td>\n",
       "      <td>NaN</td>\n",
       "      <td>NaN</td>\n",
       "      <td>NaN</td>\n",
       "      <td>NaN</td>\n",
       "      <td>NaN</td>\n",
       "      <td>NaN</td>\n",
       "      <td>NaN</td>\n",
       "    </tr>\n",
       "  </tbody>\n",
       "</table>\n",
       "</div>"
      ],
      "text/plain": [
       "   Idade     Gênero         Dia FIELD4  Alcance  Impressões  \\\n",
       "0  45-54   Feminino  2021-07-31          1116.0      1489.0   \n",
       "1  35-44     Outros  2021-07-31             4.0         5.0   \n",
       "2  45-54     Outros  2021-07-31             3.0         3.0   \n",
       "3    65+  Masculino  2021-07-31            24.0        36.0   \n",
       "4     25     Outros  2021-07-31             4.0         4.0   \n",
       "\n",
       "   Quantia gasta (BRL)  Cliques no link  Visualizações por página  \\\n",
       "0                 9.42             24.0                      20.0   \n",
       "1                 0.03              NaN                       NaN   \n",
       "2                  NaN              NaN                       NaN   \n",
       "3                 0.11              NaN                       NaN   \n",
       "4                 0.01              NaN                       NaN   \n",
       "\n",
       "   Compras no website  Compras no facebook  Adicionados ao carrinho  \\\n",
       "0                 NaN                  NaN                      1.0   \n",
       "1                 NaN                  NaN                      NaN   \n",
       "2                 NaN                  NaN                      NaN   \n",
       "3                 NaN                  NaN                      NaN   \n",
       "4                 NaN                  NaN                      NaN   \n",
       "\n",
       "   Valor de conversão adicionado ao carrinho  Checkouts Iniciados  \\\n",
       "0                                       63.9                  1.0   \n",
       "1                                        NaN                  NaN   \n",
       "2                                        NaN                  NaN   \n",
       "3                                        NaN                  NaN   \n",
       "4                                        NaN                  NaN   \n",
       "\n",
       "   Valor de conversão de checkouts iniciados  Valor de conversão de compras  \\\n",
       "0                                        NaN                            NaN   \n",
       "1                                        NaN                            NaN   \n",
       "2                                        NaN                            NaN   \n",
       "3                                        NaN                            NaN   \n",
       "4                                        NaN                            NaN   \n",
       "\n",
       "   Compras  \n",
       "0      NaN  \n",
       "1      NaN  \n",
       "2      NaN  \n",
       "3      NaN  \n",
       "4      NaN  "
      ]
     },
     "metadata": {},
     "execution_count": 5
    }
   ],
   "metadata": {}
  },
  {
   "cell_type": "markdown",
   "source": [
    "## Vejo que há vários campos com valores nulos. Os que mais chamas a atenção são 'Compras no facebook' e 'Valor de conversão de checkouts iniciados', pelo fato de terem somente valores nulos."
   ],
   "metadata": {}
  },
  {
   "cell_type": "code",
   "execution_count": 6,
   "source": [
    "dados.info()"
   ],
   "outputs": [
    {
     "output_type": "stream",
     "name": "stdout",
     "text": [
      "<class 'pandas.core.frame.DataFrame'>\n",
      "RangeIndex: 511 entries, 0 to 510\n",
      "Data columns (total 17 columns):\n",
      " #   Column                                     Non-Null Count  Dtype  \n",
      "---  ------                                     --------------  -----  \n",
      " 0   Idade                                      511 non-null    object \n",
      " 1   Gênero                                     511 non-null    object \n",
      " 2   Dia                                        511 non-null    object \n",
      " 3   FIELD4                                     511 non-null    object \n",
      " 4   Alcance                                    447 non-null    float64\n",
      " 5   Impressões                                 508 non-null    float64\n",
      " 6   Quantia gasta (BRL)                        452 non-null    float64\n",
      " 7   Cliques no link                            322 non-null    float64\n",
      " 8   Visualizações por página                   309 non-null    float64\n",
      " 9   Compras no website                         125 non-null    float64\n",
      " 10  Compras no facebook                        0 non-null      float64\n",
      " 11  Adicionados ao carrinho                    208 non-null    float64\n",
      " 12  Valor de conversão adicionado ao carrinho  208 non-null    float64\n",
      " 13  Checkouts Iniciados                        208 non-null    float64\n",
      " 14  Valor de conversão de checkouts iniciados  0 non-null      float64\n",
      " 15  Valor de conversão de compras              125 non-null    float64\n",
      " 16  Compras                                    125 non-null    float64\n",
      "dtypes: float64(13), object(4)\n",
      "memory usage: 68.0+ KB\n"
     ]
    }
   ],
   "metadata": {}
  },
  {
   "cell_type": "markdown",
   "source": [
    "### Olhando o resumo das duas colunas vejo que os valores máximos parecem bem altos em relação ao resto dos dados."
   ],
   "metadata": {}
  },
  {
   "cell_type": "code",
   "execution_count": 7,
   "source": [
    "dados.describe()"
   ],
   "outputs": [
    {
     "output_type": "execute_result",
     "data": {
      "text/html": [
       "<div>\n",
       "<style scoped>\n",
       "    .dataframe tbody tr th:only-of-type {\n",
       "        vertical-align: middle;\n",
       "    }\n",
       "\n",
       "    .dataframe tbody tr th {\n",
       "        vertical-align: top;\n",
       "    }\n",
       "\n",
       "    .dataframe thead th {\n",
       "        text-align: right;\n",
       "    }\n",
       "</style>\n",
       "<table border=\"1\" class=\"dataframe\">\n",
       "  <thead>\n",
       "    <tr style=\"text-align: right;\">\n",
       "      <th></th>\n",
       "      <th>Alcance</th>\n",
       "      <th>Impressões</th>\n",
       "      <th>Quantia gasta (BRL)</th>\n",
       "      <th>Cliques no link</th>\n",
       "      <th>Visualizações por página</th>\n",
       "      <th>Compras no website</th>\n",
       "      <th>Compras no facebook</th>\n",
       "      <th>Adicionados ao carrinho</th>\n",
       "      <th>Valor de conversão adicionado ao carrinho</th>\n",
       "      <th>Checkouts Iniciados</th>\n",
       "      <th>Valor de conversão de checkouts iniciados</th>\n",
       "      <th>Valor de conversão de compras</th>\n",
       "      <th>Compras</th>\n",
       "    </tr>\n",
       "  </thead>\n",
       "  <tbody>\n",
       "    <tr>\n",
       "      <th>count</th>\n",
       "      <td>447.000000</td>\n",
       "      <td>508.000000</td>\n",
       "      <td>452.000000</td>\n",
       "      <td>322.000000</td>\n",
       "      <td>309.000000</td>\n",
       "      <td>125.000000</td>\n",
       "      <td>0.0</td>\n",
       "      <td>208.000000</td>\n",
       "      <td>208.000000</td>\n",
       "      <td>208.000000</td>\n",
       "      <td>0.0</td>\n",
       "      <td>125.000000</td>\n",
       "      <td>125.000000</td>\n",
       "    </tr>\n",
       "    <tr>\n",
       "      <th>mean</th>\n",
       "      <td>1236.029083</td>\n",
       "      <td>1444.561024</td>\n",
       "      <td>6.914668</td>\n",
       "      <td>27.736025</td>\n",
       "      <td>23.388350</td>\n",
       "      <td>2.360000</td>\n",
       "      <td>NaN</td>\n",
       "      <td>16.048077</td>\n",
       "      <td>1623.470240</td>\n",
       "      <td>9.975962</td>\n",
       "      <td>NaN</td>\n",
       "      <td>265.633360</td>\n",
       "      <td>2.360000</td>\n",
       "    </tr>\n",
       "    <tr>\n",
       "      <th>std</th>\n",
       "      <td>2034.054527</td>\n",
       "      <td>2644.020394</td>\n",
       "      <td>11.260500</td>\n",
       "      <td>43.936678</td>\n",
       "      <td>36.676517</td>\n",
       "      <td>2.269716</td>\n",
       "      <td>NaN</td>\n",
       "      <td>20.337909</td>\n",
       "      <td>2179.140524</td>\n",
       "      <td>12.333310</td>\n",
       "      <td>NaN</td>\n",
       "      <td>281.691278</td>\n",
       "      <td>2.269716</td>\n",
       "    </tr>\n",
       "    <tr>\n",
       "      <th>min</th>\n",
       "      <td>1.000000</td>\n",
       "      <td>1.000000</td>\n",
       "      <td>0.010000</td>\n",
       "      <td>1.000000</td>\n",
       "      <td>1.000000</td>\n",
       "      <td>1.000000</td>\n",
       "      <td>NaN</td>\n",
       "      <td>1.000000</td>\n",
       "      <td>19.900000</td>\n",
       "      <td>1.000000</td>\n",
       "      <td>NaN</td>\n",
       "      <td>29.900000</td>\n",
       "      <td>1.000000</td>\n",
       "    </tr>\n",
       "    <tr>\n",
       "      <th>25%</th>\n",
       "      <td>38.000000</td>\n",
       "      <td>8.000000</td>\n",
       "      <td>0.280000</td>\n",
       "      <td>4.000000</td>\n",
       "      <td>3.000000</td>\n",
       "      <td>1.000000</td>\n",
       "      <td>NaN</td>\n",
       "      <td>4.000000</td>\n",
       "      <td>256.750000</td>\n",
       "      <td>2.000000</td>\n",
       "      <td>NaN</td>\n",
       "      <td>99.800000</td>\n",
       "      <td>1.000000</td>\n",
       "    </tr>\n",
       "    <tr>\n",
       "      <th>50%</th>\n",
       "      <td>324.000000</td>\n",
       "      <td>264.500000</td>\n",
       "      <td>2.140000</td>\n",
       "      <td>10.500000</td>\n",
       "      <td>9.000000</td>\n",
       "      <td>2.000000</td>\n",
       "      <td>NaN</td>\n",
       "      <td>9.000000</td>\n",
       "      <td>782.700000</td>\n",
       "      <td>6.000000</td>\n",
       "      <td>NaN</td>\n",
       "      <td>169.600000</td>\n",
       "      <td>2.000000</td>\n",
       "    </tr>\n",
       "    <tr>\n",
       "      <th>75%</th>\n",
       "      <td>1406.000000</td>\n",
       "      <td>1540.750000</td>\n",
       "      <td>7.412500</td>\n",
       "      <td>31.500000</td>\n",
       "      <td>26.000000</td>\n",
       "      <td>2.000000</td>\n",
       "      <td>NaN</td>\n",
       "      <td>20.000000</td>\n",
       "      <td>2168.735000</td>\n",
       "      <td>11.250000</td>\n",
       "      <td>NaN</td>\n",
       "      <td>298.500000</td>\n",
       "      <td>2.000000</td>\n",
       "    </tr>\n",
       "    <tr>\n",
       "      <th>max</th>\n",
       "      <td>11824.000000</td>\n",
       "      <td>16005.000000</td>\n",
       "      <td>72.100000</td>\n",
       "      <td>292.000000</td>\n",
       "      <td>238.000000</td>\n",
       "      <td>12.000000</td>\n",
       "      <td>NaN</td>\n",
       "      <td>148.000000</td>\n",
       "      <td>16904.900000</td>\n",
       "      <td>80.000000</td>\n",
       "      <td>NaN</td>\n",
       "      <td>1914.300000</td>\n",
       "      <td>12.000000</td>\n",
       "    </tr>\n",
       "  </tbody>\n",
       "</table>\n",
       "</div>"
      ],
      "text/plain": [
       "            Alcance    Impressões  Quantia gasta (BRL)  Cliques no link  \\\n",
       "count    447.000000    508.000000           452.000000       322.000000   \n",
       "mean    1236.029083   1444.561024             6.914668        27.736025   \n",
       "std     2034.054527   2644.020394            11.260500        43.936678   \n",
       "min        1.000000      1.000000             0.010000         1.000000   \n",
       "25%       38.000000      8.000000             0.280000         4.000000   \n",
       "50%      324.000000    264.500000             2.140000        10.500000   \n",
       "75%     1406.000000   1540.750000             7.412500        31.500000   \n",
       "max    11824.000000  16005.000000            72.100000       292.000000   \n",
       "\n",
       "       Visualizações por página  Compras no website  Compras no facebook  \\\n",
       "count                309.000000          125.000000                  0.0   \n",
       "mean                  23.388350            2.360000                  NaN   \n",
       "std                   36.676517            2.269716                  NaN   \n",
       "min                    1.000000            1.000000                  NaN   \n",
       "25%                    3.000000            1.000000                  NaN   \n",
       "50%                    9.000000            2.000000                  NaN   \n",
       "75%                   26.000000            2.000000                  NaN   \n",
       "max                  238.000000           12.000000                  NaN   \n",
       "\n",
       "       Adicionados ao carrinho  Valor de conversão adicionado ao carrinho  \\\n",
       "count               208.000000                                 208.000000   \n",
       "mean                 16.048077                                1623.470240   \n",
       "std                  20.337909                                2179.140524   \n",
       "min                   1.000000                                  19.900000   \n",
       "25%                   4.000000                                 256.750000   \n",
       "50%                   9.000000                                 782.700000   \n",
       "75%                  20.000000                                2168.735000   \n",
       "max                 148.000000                               16904.900000   \n",
       "\n",
       "       Checkouts Iniciados  Valor de conversão de checkouts iniciados  \\\n",
       "count           208.000000                                        0.0   \n",
       "mean              9.975962                                        NaN   \n",
       "std              12.333310                                        NaN   \n",
       "min               1.000000                                        NaN   \n",
       "25%               2.000000                                        NaN   \n",
       "50%               6.000000                                        NaN   \n",
       "75%              11.250000                                        NaN   \n",
       "max              80.000000                                        NaN   \n",
       "\n",
       "       Valor de conversão de compras     Compras  \n",
       "count                     125.000000  125.000000  \n",
       "mean                      265.633360    2.360000  \n",
       "std                       281.691278    2.269716  \n",
       "min                        29.900000    1.000000  \n",
       "25%                        99.800000    1.000000  \n",
       "50%                       169.600000    2.000000  \n",
       "75%                       298.500000    2.000000  \n",
       "max                      1914.300000   12.000000  "
      ]
     },
     "metadata": {},
     "execution_count": 7
    }
   ],
   "metadata": {}
  },
  {
   "cell_type": "markdown",
   "source": [
    "### Fazendo o Boxplot dos campos vejo que há muitos outliers neles."
   ],
   "metadata": {}
  },
  {
   "cell_type": "code",
   "execution_count": 8,
   "source": [
    "def plot_boxplot(data, x):\r\n",
    "    ax = sns.boxplot(x = x, data = data, orient = 'h')\r\n",
    "    ax.figure.set_size_inches(18, 2)\r\n",
    "    ax.set_title(x, fontsize = 18)\r\n",
    "    ax.set_xlabel(x, fontsize = 14)\r\n",
    "    plt.show()"
   ],
   "outputs": [],
   "metadata": {}
  },
  {
   "cell_type": "code",
   "execution_count": 9,
   "source": [
    "plot_boxplot(dados, 'Alcance')"
   ],
   "outputs": [
    {
     "output_type": "display_data",
     "data": {
      "image/png": "[encoded data removed]",
      "text/plain": [
       "<Figure size 1296x144 with 1 Axes>"
      ]
     },
     "metadata": {
      "needs_background": "light"
     }
    }
   ],
   "metadata": {}
  },
  {
   "cell_type": "code",
   "execution_count": 10,
   "source": [
    "plot_boxplot(dados, 'Impressões')"
   ],
   "outputs": [
    {
     "output_type": "display_data",
     "data": {
      "image/png": "[encoded data removed]",
      "text/plain": [
       "<Figure size 1296x144 with 1 Axes>"
      ]
     },
     "metadata": {
      "needs_background": "light"
     }
    }
   ],
   "metadata": {}
  },
  {
   "cell_type": "code",
   "execution_count": 11,
   "source": [
    "plot_boxplot(dados, 'Quantia gasta (BRL)')"
   ],
   "outputs": [
    {
     "output_type": "display_data",
     "data": {
      "image/png": "[encoded data removed]",
      "text/plain": [
       "<Figure size 1296x144 with 1 Axes>"
      ]
     },
     "metadata": {
      "needs_background": "light"
     }
    }
   ],
   "metadata": {}
  },
  {
   "cell_type": "code",
   "execution_count": 12,
   "source": [
    "plot_boxplot(dados, 'Cliques no link')"
   ],
   "outputs": [
    {
     "output_type": "display_data",
     "data": {
      "image/png": "[encoded data removed]",
      "text/plain": [
       "<Figure size 1296x144 with 1 Axes>"
      ]
     },
     "metadata": {
      "needs_background": "light"
     }
    }
   ],
   "metadata": {}
  },
  {
   "cell_type": "code",
   "execution_count": 13,
   "source": [
    "plot_boxplot(dados, 'Visualizações por página')"
   ],
   "outputs": [
    {
     "output_type": "display_data",
     "data": {
      "image/png": "[encoded data removed]",
      "text/plain": [
       "<Figure size 1296x144 with 1 Axes>"
      ]
     },
     "metadata": {
      "needs_background": "light"
     }
    }
   ],
   "metadata": {}
  },
  {
   "cell_type": "code",
   "execution_count": 14,
   "source": [
    "plot_boxplot(dados, 'Compras no website')"
   ],
   "outputs": [
    {
     "output_type": "display_data",
     "data": {
      "image/png": "[encoded data removed]",
      "text/plain": [
       "<Figure size 1296x144 with 1 Axes>"
      ]
     },
     "metadata": {
      "needs_background": "light"
     }
    }
   ],
   "metadata": {}
  },
  {
   "cell_type": "code",
   "execution_count": 15,
   "source": [
    "plot_boxplot(dados, 'Adicionados ao carrinho')"
   ],
   "outputs": [
    {
     "output_type": "display_data",
     "data": {
      "image/png": "[encoded data removed]",
      "text/plain": [
       "<Figure size 1296x144 with 1 Axes>"
      ]
     },
     "metadata": {
      "needs_background": "light"
     }
    }
   ],
   "metadata": {}
  },
  {
   "cell_type": "code",
   "execution_count": 16,
   "source": [
    "plot_boxplot(dados, 'Valor de conversão adicionado ao carrinho')"
   ],
   "outputs": [
    {
     "output_type": "display_data",
     "data": {
      "image/png": "[encoded data removed]",
      "text/plain": [
       "<Figure size 1296x144 with 1 Axes>"
      ]
     },
     "metadata": {
      "needs_background": "light"
     }
    }
   ],
   "metadata": {}
  },
  {
   "cell_type": "code",
   "execution_count": 17,
   "source": [
    "plot_boxplot(dados, 'Checkouts Iniciados')"
   ],
   "outputs": [
    {
     "output_type": "display_data",
     "data": {
      "image/png": "[encoded data removed]",
      "text/plain": [
       "<Figure size 1296x144 with 1 Axes>"
      ]
     },
     "metadata": {
      "needs_background": "light"
     }
    }
   ],
   "metadata": {}
  },
  {
   "cell_type": "code",
   "execution_count": 18,
   "source": [
    "plot_boxplot(dados, 'Valor de conversão de compras')"
   ],
   "outputs": [
    {
     "output_type": "display_data",
     "data": {
      "image/png": "[encoded data removed]",
      "text/plain": [
       "<Figure size 1296x144 with 1 Axes>"
      ]
     },
     "metadata": {
      "needs_background": "light"
     }
    }
   ],
   "metadata": {}
  },
  {
   "cell_type": "code",
   "execution_count": 19,
   "source": [
    "plot_boxplot(dados, 'Compras')"
   ],
   "outputs": [
    {
     "output_type": "display_data",
     "data": {
      "image/png": "[encoded data removed]",
      "text/plain": [
       "<Figure size 1296x144 with 1 Axes>"
      ]
     },
     "metadata": {
      "needs_background": "light"
     }
    }
   ],
   "metadata": {}
  }
 ],
 "metadata": {
  "orig_nbformat": 4,
  "language_info": {
   "name": "python",
   "version": "3.8.8",
   "mimetype": "text/x-python",
   "codemirror_mode": {
    "name": "ipython",
    "version": 3
   },
   "pygments_lexer": "ipython3",
   "nbconvert_exporter": "python",
   "file_extension": ".py"
  },
  "kernelspec": {
   "name": "python3",
   "display_name": "Python 3.8.8 64-bit ('data_science': conda)"
  },
  "interpreter": {
   "hash": "5e1cf47aa203f6c08ac1e1b9cf16483ccbe851a0d40c55131d078e5221593cd4"
  }
 },
 "nbformat": 4,
 "nbformat_minor": 2
}