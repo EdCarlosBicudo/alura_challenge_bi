{
 "cells": [
  {
   "cell_type": "code",
   "execution_count": 1,
   "source": [
    "import mysql.connector as sql\r\n",
    "import pandas as pd\r\n",
    "import matplotlib.pyplot as plt\r\n",
    "import seaborn as sns\r\n",
    "import db_info"
   ],
   "outputs": [],
   "metadata": {}
  },
  {
   "cell_type": "markdown",
   "source": [
    "# Análise Exploratória de Dados (EDA) da tabelas.\r\n",
    "\r\n",
    "### Faço uma análise de cada tabela para entender melhor como são constituídas e se algum campo precisa de tratamento."
   ],
   "metadata": {}
  },
  {
   "cell_type": "markdown",
   "source": [
    "## Análise da Tabela de Pedidos"
   ],
   "metadata": {}
  },
  {
   "cell_type": "code",
   "execution_count": 2,
   "source": [
    "db_connection = sql.connect(host=db_info.HOST, database=db_info.DATABASE, user=db_info.USER, password=db_info.PASS)\r\n",
    "pedidos = pd.read_sql(\"SELECT * FROM pedidos\", con=db_connection)\r\n",
    "db_connection.close()"
   ],
   "outputs": [],
   "metadata": {}
  },
  {
   "cell_type": "code",
   "execution_count": 3,
   "source": [
    "pedidos.head()"
   ],
   "outputs": [
    {
     "output_type": "execute_result",
     "data": {
      "text/html": [
       "<div>\n",
       "<style scoped>\n",
       "    .dataframe tbody tr th:only-of-type {\n",
       "        vertical-align: middle;\n",
       "    }\n",
       "\n",
       "    .dataframe tbody tr th {\n",
       "        vertical-align: top;\n",
       "    }\n",
       "\n",
       "    .dataframe thead th {\n",
       "        text-align: right;\n",
       "    }\n",
       "</style>\n",
       "<table border=\"1\" class=\"dataframe\">\n",
       "  <thead>\n",
       "    <tr style=\"text-align: right;\">\n",
       "      <th></th>\n",
       "      <th>id_pedido</th>\n",
       "      <th>id_produto</th>\n",
       "      <th>quantidade</th>\n",
       "      <th>data_compra</th>\n",
       "    </tr>\n",
       "  </thead>\n",
       "  <tbody>\n",
       "    <tr>\n",
       "      <th>0</th>\n",
       "      <td>1</td>\n",
       "      <td>32</td>\n",
       "      <td>3</td>\n",
       "      <td>2021-01-04 21:15:00</td>\n",
       "    </tr>\n",
       "    <tr>\n",
       "      <th>1</th>\n",
       "      <td>2</td>\n",
       "      <td>50</td>\n",
       "      <td>9</td>\n",
       "      <td>2021-01-05 00:15:00</td>\n",
       "    </tr>\n",
       "    <tr>\n",
       "      <th>2</th>\n",
       "      <td>3</td>\n",
       "      <td>39</td>\n",
       "      <td>3</td>\n",
       "      <td>2021-01-13 15:24:00</td>\n",
       "    </tr>\n",
       "    <tr>\n",
       "      <th>3</th>\n",
       "      <td>4</td>\n",
       "      <td>39</td>\n",
       "      <td>1</td>\n",
       "      <td>2021-01-05 12:16:00</td>\n",
       "    </tr>\n",
       "    <tr>\n",
       "      <th>4</th>\n",
       "      <td>5</td>\n",
       "      <td>19</td>\n",
       "      <td>7</td>\n",
       "      <td>2021-01-02 22:07:00</td>\n",
       "    </tr>\n",
       "  </tbody>\n",
       "</table>\n",
       "</div>"
      ],
      "text/plain": [
       "   id_pedido  id_produto  quantidade         data_compra\n",
       "0          1          32           3 2021-01-04 21:15:00\n",
       "1          2          50           9 2021-01-05 00:15:00\n",
       "2          3          39           3 2021-01-13 15:24:00\n",
       "3          4          39           1 2021-01-05 12:16:00\n",
       "4          5          19           7 2021-01-02 22:07:00"
      ]
     },
     "metadata": {},
     "execution_count": 3
    }
   ],
   "metadata": {}
  },
  {
   "cell_type": "markdown",
   "source": [
    "## Vejo que não há valores faltantes na tabela"
   ],
   "metadata": {}
  },
  {
   "cell_type": "code",
   "execution_count": 4,
   "source": [
    "pedidos.info()"
   ],
   "outputs": [
    {
     "output_type": "stream",
     "name": "stdout",
     "text": [
      "<class 'pandas.core.frame.DataFrame'>\n",
      "RangeIndex: 139999 entries, 0 to 139998\n",
      "Data columns (total 4 columns):\n",
      " #   Column       Non-Null Count   Dtype         \n",
      "---  ------       --------------   -----         \n",
      " 0   id_pedido    139999 non-null  int64         \n",
      " 1   id_produto   139999 non-null  int64         \n",
      " 2   quantidade   139999 non-null  int64         \n",
      " 3   data_compra  139999 non-null  datetime64[ns]\n",
      "dtypes: datetime64[ns](1), int64(3)\n",
      "memory usage: 4.3 MB\n"
     ]
    }
   ],
   "metadata": {}
  },
  {
   "cell_type": "markdown",
   "source": [
    "## Olhando o resumo do campo 'quantidade' não há nada que chame a atenção.\r\n",
    "\r\n",
    "Nenhum produto tem o valor 0, ou um valor extremamente alto."
   ],
   "metadata": {}
  },
  {
   "cell_type": "code",
   "execution_count": 5,
   "source": [
    "pedidos.describe()"
   ],
   "outputs": [
    {
     "output_type": "execute_result",
     "data": {
      "text/html": [
       "<div>\n",
       "<style scoped>\n",
       "    .dataframe tbody tr th:only-of-type {\n",
       "        vertical-align: middle;\n",
       "    }\n",
       "\n",
       "    .dataframe tbody tr th {\n",
       "        vertical-align: top;\n",
       "    }\n",
       "\n",
       "    .dataframe thead th {\n",
       "        text-align: right;\n",
       "    }\n",
       "</style>\n",
       "<table border=\"1\" class=\"dataframe\">\n",
       "  <thead>\n",
       "    <tr style=\"text-align: right;\">\n",
       "      <th></th>\n",
       "      <th>id_pedido</th>\n",
       "      <th>id_produto</th>\n",
       "      <th>quantidade</th>\n",
       "    </tr>\n",
       "  </thead>\n",
       "  <tbody>\n",
       "    <tr>\n",
       "      <th>count</th>\n",
       "      <td>139999.000000</td>\n",
       "      <td>139999.000000</td>\n",
       "      <td>139999.000000</td>\n",
       "    </tr>\n",
       "    <tr>\n",
       "      <th>mean</th>\n",
       "      <td>70000.000000</td>\n",
       "      <td>34.211694</td>\n",
       "      <td>5.494468</td>\n",
       "    </tr>\n",
       "    <tr>\n",
       "      <th>std</th>\n",
       "      <td>40414.374505</td>\n",
       "      <td>19.475913</td>\n",
       "      <td>2.871065</td>\n",
       "    </tr>\n",
       "    <tr>\n",
       "      <th>min</th>\n",
       "      <td>1.000000</td>\n",
       "      <td>1.000000</td>\n",
       "      <td>1.000000</td>\n",
       "    </tr>\n",
       "    <tr>\n",
       "      <th>25%</th>\n",
       "      <td>35000.500000</td>\n",
       "      <td>17.000000</td>\n",
       "      <td>3.000000</td>\n",
       "    </tr>\n",
       "    <tr>\n",
       "      <th>50%</th>\n",
       "      <td>70000.000000</td>\n",
       "      <td>34.000000</td>\n",
       "      <td>5.000000</td>\n",
       "    </tr>\n",
       "    <tr>\n",
       "      <th>75%</th>\n",
       "      <td>104999.500000</td>\n",
       "      <td>51.000000</td>\n",
       "      <td>8.000000</td>\n",
       "    </tr>\n",
       "    <tr>\n",
       "      <th>max</th>\n",
       "      <td>139999.000000</td>\n",
       "      <td>68.000000</td>\n",
       "      <td>10.000000</td>\n",
       "    </tr>\n",
       "  </tbody>\n",
       "</table>\n",
       "</div>"
      ],
      "text/plain": [
       "           id_pedido     id_produto     quantidade\n",
       "count  139999.000000  139999.000000  139999.000000\n",
       "mean    70000.000000      34.211694       5.494468\n",
       "std     40414.374505      19.475913       2.871065\n",
       "min         1.000000       1.000000       1.000000\n",
       "25%     35000.500000      17.000000       3.000000\n",
       "50%     70000.000000      34.000000       5.000000\n",
       "75%    104999.500000      51.000000       8.000000\n",
       "max    139999.000000      68.000000      10.000000"
      ]
     },
     "metadata": {},
     "execution_count": 5
    }
   ],
   "metadata": {}
  },
  {
   "cell_type": "markdown",
   "source": [
    "## Testando o campo de data:\r\n",
    "\r\n",
    "O Pandas tem a função to_datetime(), que converte todos os valores da coluna para um objeto datetime.\r\n",
    "\r\n",
    "Posso utilizar essa função para verificar se a coluna tem algum valor inválido para data"
   ],
   "metadata": {}
  },
  {
   "cell_type": "code",
   "execution_count": 6,
   "source": [
    "pedidos['data_compra'] = pd.to_datetime(pedidos['data_compra'])\r\n",
    "pedidos['data_compra'].head()"
   ],
   "outputs": [
    {
     "output_type": "execute_result",
     "data": {
      "text/plain": [
       "0   2021-01-04 21:15:00\n",
       "1   2021-01-05 00:15:00\n",
       "2   2021-01-13 15:24:00\n",
       "3   2021-01-05 12:16:00\n",
       "4   2021-01-02 22:07:00\n",
       "Name: data_compra, dtype: datetime64[ns]"
      ]
     },
     "metadata": {},
     "execution_count": 6
    }
   ],
   "metadata": {}
  },
  {
   "cell_type": "markdown",
   "source": [
    "O campo 'data_compra' foi convertido sem problemas.\r\n",
    "\r\n",
    "Significa que tem somente valores válidos para data."
   ],
   "metadata": {}
  }
 ],
 "metadata": {
  "orig_nbformat": 4,
  "language_info": {
   "name": "python",
   "version": "3.7.11",
   "mimetype": "text/x-python",
   "codemirror_mode": {
    "name": "ipython",
    "version": 3
   },
   "pygments_lexer": "ipython3",
   "nbconvert_exporter": "python",
   "file_extension": ".py"
  },
  "kernelspec": {
   "name": "python3",
   "display_name": "Python 3.7.9 64-bit ('data_science': conda)"
  },
  "interpreter": {
   "hash": "5e1cf47aa203f6c08ac1e1b9cf16483ccbe851a0d40c55131d078e5221593cd4"
  }
 },
 "nbformat": 4,
 "nbformat_minor": 2
}