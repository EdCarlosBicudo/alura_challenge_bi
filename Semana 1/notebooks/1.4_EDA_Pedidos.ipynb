{
    "cells": [
        {
            "cell_type": "code",
            "execution_count": 1,
            "source": [
                "import pandas as pd"
            ],
            "outputs": [],
            "metadata": {}
        },
        {
            "cell_type": "markdown",
            "source": [
                "# Análise Exploratória de Dados (EDA) da tabelas.\r\n",
                "\r\n",
                "### Faço uma análise de cada tabela para entender melhor como são constituídas e se algum campo precisa de tratamento."
            ],
            "metadata": {}
        },
        {
            "cell_type": "markdown",
            "source": [
                "## Análise da tabela Pedidos"
            ],
            "metadata": {}
        },
        {
            "cell_type": "code",
            "execution_count": 2,
            "source": [
                "pedidos = pd.read_csv('../dados/Tabela - Pedidos.CSV', sep=';')"
            ],
            "outputs": [],
            "metadata": {}
        },
        {
            "cell_type": "code",
            "execution_count": 3,
            "source": [
                "pedidos.head()"
            ],
            "outputs": [
                {
                    "output_type": "execute_result",
                    "data": {
                        "text/plain": [
                            "   ID Pedido  ID Produto  Quantidade  ID Veículo Status do pedido  \\\n",
                            "0          1          32           3          19         Entregue   \n",
                            "1          2          50           9          42         Entregue   \n",
                            "2          3          39           3          19         Entregue   \n",
                            "3          4          39           1          16         Entregue   \n",
                            "4          5          19           7          14         Entregue   \n",
                            "\n",
                            "  Data da compra   Data de entrega     Data previsão  Latitude  Longitude  \\\n",
                            "0   1/4/21 21:15  22/01/2021 21:15  23/01/2021 21:15    -22.19     -48.79   \n",
                            "1    1/5/21 0:15  14/01/2021 00:15  25/01/2021 00:15    -22.19     -48.79   \n",
                            "2  1/13/21 15:24  20/01/2021 15:24  02/02/2021 15:24    -20.51     -54.54   \n",
                            "3   1/5/21 12:16  16/01/2021 12:16  23/01/2021 12:16     -6.60     -42.28   \n",
                            "4   1/2/21 22:07  17/01/2021 22:07  18/01/2021 22:07    -22.25     -42.66   \n",
                            "\n",
                            "  UF da entrega  \n",
                            "0            SP  \n",
                            "1            SP  \n",
                            "2            MS  \n",
                            "3            PI  \n",
                            "4            RJ  "
                        ],
                        "text/html": [
                            "<div>\n",
                            "<style scoped>\n",
                            "    .dataframe tbody tr th:only-of-type {\n",
                            "        vertical-align: middle;\n",
                            "    }\n",
                            "\n",
                            "    .dataframe tbody tr th {\n",
                            "        vertical-align: top;\n",
                            "    }\n",
                            "\n",
                            "    .dataframe thead th {\n",
                            "        text-align: right;\n",
                            "    }\n",
                            "</style>\n",
                            "<table border=\"1\" class=\"dataframe\">\n",
                            "  <thead>\n",
                            "    <tr style=\"text-align: right;\">\n",
                            "      <th></th>\n",
                            "      <th>ID Pedido</th>\n",
                            "      <th>ID Produto</th>\n",
                            "      <th>Quantidade</th>\n",
                            "      <th>ID Veículo</th>\n",
                            "      <th>Status do pedido</th>\n",
                            "      <th>Data da compra</th>\n",
                            "      <th>Data de entrega</th>\n",
                            "      <th>Data previsão</th>\n",
                            "      <th>Latitude</th>\n",
                            "      <th>Longitude</th>\n",
                            "      <th>UF da entrega</th>\n",
                            "    </tr>\n",
                            "  </thead>\n",
                            "  <tbody>\n",
                            "    <tr>\n",
                            "      <th>0</th>\n",
                            "      <td>1</td>\n",
                            "      <td>32</td>\n",
                            "      <td>3</td>\n",
                            "      <td>19</td>\n",
                            "      <td>Entregue</td>\n",
                            "      <td>1/4/21 21:15</td>\n",
                            "      <td>22/01/2021 21:15</td>\n",
                            "      <td>23/01/2021 21:15</td>\n",
                            "      <td>-22.19</td>\n",
                            "      <td>-48.79</td>\n",
                            "      <td>SP</td>\n",
                            "    </tr>\n",
                            "    <tr>\n",
                            "      <th>1</th>\n",
                            "      <td>2</td>\n",
                            "      <td>50</td>\n",
                            "      <td>9</td>\n",
                            "      <td>42</td>\n",
                            "      <td>Entregue</td>\n",
                            "      <td>1/5/21 0:15</td>\n",
                            "      <td>14/01/2021 00:15</td>\n",
                            "      <td>25/01/2021 00:15</td>\n",
                            "      <td>-22.19</td>\n",
                            "      <td>-48.79</td>\n",
                            "      <td>SP</td>\n",
                            "    </tr>\n",
                            "    <tr>\n",
                            "      <th>2</th>\n",
                            "      <td>3</td>\n",
                            "      <td>39</td>\n",
                            "      <td>3</td>\n",
                            "      <td>19</td>\n",
                            "      <td>Entregue</td>\n",
                            "      <td>1/13/21 15:24</td>\n",
                            "      <td>20/01/2021 15:24</td>\n",
                            "      <td>02/02/2021 15:24</td>\n",
                            "      <td>-20.51</td>\n",
                            "      <td>-54.54</td>\n",
                            "      <td>MS</td>\n",
                            "    </tr>\n",
                            "    <tr>\n",
                            "      <th>3</th>\n",
                            "      <td>4</td>\n",
                            "      <td>39</td>\n",
                            "      <td>1</td>\n",
                            "      <td>16</td>\n",
                            "      <td>Entregue</td>\n",
                            "      <td>1/5/21 12:16</td>\n",
                            "      <td>16/01/2021 12:16</td>\n",
                            "      <td>23/01/2021 12:16</td>\n",
                            "      <td>-6.60</td>\n",
                            "      <td>-42.28</td>\n",
                            "      <td>PI</td>\n",
                            "    </tr>\n",
                            "    <tr>\n",
                            "      <th>4</th>\n",
                            "      <td>5</td>\n",
                            "      <td>19</td>\n",
                            "      <td>7</td>\n",
                            "      <td>14</td>\n",
                            "      <td>Entregue</td>\n",
                            "      <td>1/2/21 22:07</td>\n",
                            "      <td>17/01/2021 22:07</td>\n",
                            "      <td>18/01/2021 22:07</td>\n",
                            "      <td>-22.25</td>\n",
                            "      <td>-42.66</td>\n",
                            "      <td>RJ</td>\n",
                            "    </tr>\n",
                            "  </tbody>\n",
                            "</table>\n",
                            "</div>"
                        ]
                    },
                    "metadata": {},
                    "execution_count": 3
                }
            ],
            "metadata": {}
        },
        {
            "cell_type": "markdown",
            "source": [
                "## Vemos que não há dados faltantes na tabela."
            ],
            "metadata": {}
        },
        {
            "cell_type": "code",
            "execution_count": 4,
            "source": [
                "pedidos.info()"
            ],
            "outputs": [
                {
                    "output_type": "stream",
                    "name": "stdout",
                    "text": [
                        "<class 'pandas.core.frame.DataFrame'>\n",
                        "RangeIndex: 147935 entries, 0 to 147934\n",
                        "Data columns (total 11 columns):\n",
                        " #   Column            Non-Null Count   Dtype  \n",
                        "---  ------            --------------   -----  \n",
                        " 0   ID Pedido         147935 non-null  int64  \n",
                        " 1   ID Produto        147935 non-null  int64  \n",
                        " 2   Quantidade        147935 non-null  int64  \n",
                        " 3   ID Veículo        147935 non-null  int64  \n",
                        " 4   Status do pedido  147935 non-null  object \n",
                        " 5   Data da compra    147935 non-null  object \n",
                        " 6   Data de entrega   147935 non-null  object \n",
                        " 7   Data previsão     147935 non-null  object \n",
                        " 8   Latitude          147935 non-null  float64\n",
                        " 9   Longitude         147935 non-null  float64\n",
                        " 10  UF da entrega     147935 non-null  object \n",
                        "dtypes: float64(2), int64(4), object(5)\n",
                        "memory usage: 12.4+ MB\n"
                    ]
                }
            ],
            "metadata": {}
        },
        {
            "cell_type": "markdown",
            "source": [
                "## O  campo 'Quantidade' não parece ter valores estranhos."
            ],
            "metadata": {}
        },
        {
            "cell_type": "code",
            "execution_count": 5,
            "source": [
                "pedidos[['Quantidade']].describe()"
            ],
            "outputs": [
                {
                    "output_type": "execute_result",
                    "data": {
                        "text/plain": [
                            "          Quantidade\n",
                            "count  147935.000000\n",
                            "mean        5.493575\n",
                            "std         2.871408\n",
                            "min         1.000000\n",
                            "25%         3.000000\n",
                            "50%         5.000000\n",
                            "75%         8.000000\n",
                            "max        10.000000"
                        ],
                        "text/html": [
                            "<div>\n",
                            "<style scoped>\n",
                            "    .dataframe tbody tr th:only-of-type {\n",
                            "        vertical-align: middle;\n",
                            "    }\n",
                            "\n",
                            "    .dataframe tbody tr th {\n",
                            "        vertical-align: top;\n",
                            "    }\n",
                            "\n",
                            "    .dataframe thead th {\n",
                            "        text-align: right;\n",
                            "    }\n",
                            "</style>\n",
                            "<table border=\"1\" class=\"dataframe\">\n",
                            "  <thead>\n",
                            "    <tr style=\"text-align: right;\">\n",
                            "      <th></th>\n",
                            "      <th>Quantidade</th>\n",
                            "    </tr>\n",
                            "  </thead>\n",
                            "  <tbody>\n",
                            "    <tr>\n",
                            "      <th>count</th>\n",
                            "      <td>147935.000000</td>\n",
                            "    </tr>\n",
                            "    <tr>\n",
                            "      <th>mean</th>\n",
                            "      <td>5.493575</td>\n",
                            "    </tr>\n",
                            "    <tr>\n",
                            "      <th>std</th>\n",
                            "      <td>2.871408</td>\n",
                            "    </tr>\n",
                            "    <tr>\n",
                            "      <th>min</th>\n",
                            "      <td>1.000000</td>\n",
                            "    </tr>\n",
                            "    <tr>\n",
                            "      <th>25%</th>\n",
                            "      <td>3.000000</td>\n",
                            "    </tr>\n",
                            "    <tr>\n",
                            "      <th>50%</th>\n",
                            "      <td>5.000000</td>\n",
                            "    </tr>\n",
                            "    <tr>\n",
                            "      <th>75%</th>\n",
                            "      <td>8.000000</td>\n",
                            "    </tr>\n",
                            "    <tr>\n",
                            "      <th>max</th>\n",
                            "      <td>10.000000</td>\n",
                            "    </tr>\n",
                            "  </tbody>\n",
                            "</table>\n",
                            "</div>"
                        ]
                    },
                    "metadata": {},
                    "execution_count": 5
                }
            ],
            "metadata": {}
        },
        {
            "cell_type": "markdown",
            "source": [
                "## A primeira coisa que chama a atenção são as datas:"
            ],
            "metadata": {}
        },
        {
            "cell_type": "code",
            "execution_count": 6,
            "source": [
                "pedidos[['Data da compra', 'Data de entrega', 'Data previsão']].head()"
            ],
            "outputs": [
                {
                    "output_type": "execute_result",
                    "data": {
                        "text/plain": [
                            "  Data da compra   Data de entrega     Data previsão\n",
                            "0   1/4/21 21:15  22/01/2021 21:15  23/01/2021 21:15\n",
                            "1    1/5/21 0:15  14/01/2021 00:15  25/01/2021 00:15\n",
                            "2  1/13/21 15:24  20/01/2021 15:24  02/02/2021 15:24\n",
                            "3   1/5/21 12:16  16/01/2021 12:16  23/01/2021 12:16\n",
                            "4   1/2/21 22:07  17/01/2021 22:07  18/01/2021 22:07"
                        ],
                        "text/html": [
                            "<div>\n",
                            "<style scoped>\n",
                            "    .dataframe tbody tr th:only-of-type {\n",
                            "        vertical-align: middle;\n",
                            "    }\n",
                            "\n",
                            "    .dataframe tbody tr th {\n",
                            "        vertical-align: top;\n",
                            "    }\n",
                            "\n",
                            "    .dataframe thead th {\n",
                            "        text-align: right;\n",
                            "    }\n",
                            "</style>\n",
                            "<table border=\"1\" class=\"dataframe\">\n",
                            "  <thead>\n",
                            "    <tr style=\"text-align: right;\">\n",
                            "      <th></th>\n",
                            "      <th>Data da compra</th>\n",
                            "      <th>Data de entrega</th>\n",
                            "      <th>Data previsão</th>\n",
                            "    </tr>\n",
                            "  </thead>\n",
                            "  <tbody>\n",
                            "    <tr>\n",
                            "      <th>0</th>\n",
                            "      <td>1/4/21 21:15</td>\n",
                            "      <td>22/01/2021 21:15</td>\n",
                            "      <td>23/01/2021 21:15</td>\n",
                            "    </tr>\n",
                            "    <tr>\n",
                            "      <th>1</th>\n",
                            "      <td>1/5/21 0:15</td>\n",
                            "      <td>14/01/2021 00:15</td>\n",
                            "      <td>25/01/2021 00:15</td>\n",
                            "    </tr>\n",
                            "    <tr>\n",
                            "      <th>2</th>\n",
                            "      <td>1/13/21 15:24</td>\n",
                            "      <td>20/01/2021 15:24</td>\n",
                            "      <td>02/02/2021 15:24</td>\n",
                            "    </tr>\n",
                            "    <tr>\n",
                            "      <th>3</th>\n",
                            "      <td>1/5/21 12:16</td>\n",
                            "      <td>16/01/2021 12:16</td>\n",
                            "      <td>23/01/2021 12:16</td>\n",
                            "    </tr>\n",
                            "    <tr>\n",
                            "      <th>4</th>\n",
                            "      <td>1/2/21 22:07</td>\n",
                            "      <td>17/01/2021 22:07</td>\n",
                            "      <td>18/01/2021 22:07</td>\n",
                            "    </tr>\n",
                            "  </tbody>\n",
                            "</table>\n",
                            "</div>"
                        ]
                    },
                    "metadata": {},
                    "execution_count": 6
                }
            ],
            "metadata": {}
        },
        {
            "cell_type": "markdown",
            "source": [
                "As Datas de Previsão e Entrega parecem não apresentar problemas, mas a Data da Compra está em um formato diferente.\r\n",
                "\r\n",
                "A Data da compra na terceira linha, '1/13/21 15:24', indica que este campo está no formato americano.\r\n",
                "\r\n",
                "Isso também será tratado no Power BI"
            ],
            "metadata": {}
        },
        {
            "cell_type": "markdown",
            "source": [
                "## Testando os campos de data:"
            ],
            "metadata": {}
        },
        {
            "cell_type": "markdown",
            "source": [
                "O Pandas tem a função to_datetime(), que converte todos os valores da coluna para um objeto datetime.\r\n",
                "\r\n",
                "Posso utilizar essa função para verificar se a coluna tem algum valor inválido para data."
            ],
            "metadata": {}
        },
        {
            "cell_type": "code",
            "execution_count": 7,
            "source": [
                "pedidos['Data previsão'] = pd.to_datetime(pedidos['Data previsão'])\r\n",
                "pedidos['Data previsão'].head()"
            ],
            "outputs": [
                {
                    "output_type": "execute_result",
                    "data": {
                        "text/plain": [
                            "0   2021-01-23 21:15:00\n",
                            "1   2021-01-25 00:15:00\n",
                            "2   2021-02-02 15:24:00\n",
                            "3   2021-01-23 12:16:00\n",
                            "4   2021-01-18 22:07:00\n",
                            "Name: Data previsão, dtype: datetime64[ns]"
                        ]
                    },
                    "metadata": {},
                    "execution_count": 7
                }
            ],
            "metadata": {}
        },
        {
            "cell_type": "markdown",
            "source": [
                "O campo 'Data previsão' foi convertido sem problemas.\r\n",
                "\r\n",
                "Significa que tem somente valores válidos para data."
            ],
            "metadata": {}
        },
        {
            "cell_type": "code",
            "execution_count": 8,
            "source": [
                "# pd.to_datetime(pedidos['Data de entrega'])\r\n",
                "\r\n",
                "# ParserError: Unknown string format: Não disponível"
            ],
            "outputs": [],
            "metadata": {}
        },
        {
            "cell_type": "markdown",
            "source": [
                "Omiti a saída de erro para manter o código limpo.\r\n",
                "\r\n",
                "Ao tentar converter o campo 'Data de entrega', a função retorna o erro:\r\n",
                "\r\n",
                "_ParserError: Unknown string format: Não disponível_\r\n",
                "\r\n",
                "O que significa que dentre as datas existe a String 'Não disponível', provavelmente dos pedidos ainda não entregues."
            ],
            "metadata": {}
        },
        {
            "cell_type": "code",
            "execution_count": 9,
            "source": [
                "pedidos.loc[pedidos['Data de entrega'] != 'Não disponível',['Data de entrega']] = pd.to_datetime(pedidos[pedidos['Data de entrega'] != 'Não disponível']['Data de entrega'])\r\n",
                "pd.to_datetime(pedidos['Data previsão'].head())"
            ],
            "outputs": [
                {
                    "output_type": "execute_result",
                    "data": {
                        "text/plain": [
                            "0   2021-01-23 21:15:00\n",
                            "1   2021-01-25 00:15:00\n",
                            "2   2021-02-02 15:24:00\n",
                            "3   2021-01-23 12:16:00\n",
                            "4   2021-01-18 22:07:00\n",
                            "Name: Data previsão, dtype: datetime64[ns]"
                        ]
                    },
                    "metadata": {},
                    "execution_count": 9
                }
            ],
            "metadata": {}
        },
        {
            "cell_type": "markdown",
            "source": [
                "Aqui eu filtrei os registros que não tem a String 'Não disponível', converti novamente para datetime, e não obtive erro.\r\n",
                "\r\n",
                "Significa que todos os outros registros tem valores válidos para data."
            ],
            "metadata": {}
        },
        {
            "cell_type": "code",
            "execution_count": 10,
            "source": [
                "pedidos['Data da compra'] = pd.to_datetime(pedidos['Data da compra'])\r\n",
                "pedidos['Data da compra'].head()"
            ],
            "outputs": [
                {
                    "output_type": "execute_result",
                    "data": {
                        "text/plain": [
                            "0   2021-01-04 21:15:00\n",
                            "1   2021-01-05 00:15:00\n",
                            "2   2021-01-13 15:24:00\n",
                            "3   2021-01-05 12:16:00\n",
                            "4   2021-01-02 22:07:00\n",
                            "Name: Data da compra, dtype: datetime64[ns]"
                        ]
                    },
                    "metadata": {},
                    "execution_count": 10
                }
            ],
            "metadata": {}
        },
        {
            "cell_type": "markdown",
            "source": [
                "O campo 'Data da compra' também for convertido sem problemas, pois apesar de estar no formato americano, apresenta somente valores válidos."
            ],
            "metadata": {}
        }
    ],
    "metadata": {
        "orig_nbformat": 4,
        "language_info": {
            "name": "python",
            "version": "3.8.8",
            "mimetype": "text/x-python",
            "codemirror_mode": {
                "name": "ipython",
                "version": 3
            },
            "pygments_lexer": "ipython3",
            "nbconvert_exporter": "python",
            "file_extension": ".py"
        },
        "kernelspec": {
            "name": "python3",
            "display_name": "Python 3.8.8 64-bit (system)"
        },
        "interpreter": {
            "hash": "5e1cf47aa203f6c08ac1e1b9cf16483ccbe851a0d40c55131d078e5221593cd4"
        }
    },
    "nbformat": 4,
    "nbformat_minor": 2
}