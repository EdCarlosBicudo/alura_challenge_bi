{
    "cells": [
        {
            "cell_type": "code",
            "execution_count": 1,
            "source": [
                "import pandas as pd"
            ],
            "outputs": [],
            "metadata": {}
        },
        {
            "cell_type": "markdown",
            "source": [
                "# Análise Exploratória de Dados (EDA) da tabelas.\r\n",
                "\r\n",
                "### Faço uma análise de cada tabela para entender melhor como são constituídas e se algum campo precisa de tratamento.¶"
            ],
            "metadata": {}
        },
        {
            "cell_type": "markdown",
            "source": [
                "## Análise da tabela Veículos"
            ],
            "metadata": {}
        },
        {
            "cell_type": "code",
            "execution_count": 2,
            "source": [
                "veiculos = pd.read_csv('../dados/Tabela - Veículos.csv')"
            ],
            "outputs": [],
            "metadata": {}
        },
        {
            "cell_type": "code",
            "execution_count": 3,
            "source": [
                "veiculos.head()"
            ],
            "outputs": [
                {
                    "output_type": "execute_result",
                    "data": {
                        "text/plain": [
                            "  ID veículos         Tipo   Status\n",
                            "0       VEH01        carro  Ocupado\n",
                            "1       VEH02        carro  Ocupado\n",
                            "2       VEH03  caminhonete  Ocupado\n",
                            "3       VEH04  caminhonete  Ocupado\n",
                            "4       VEH05        carro  Ocupado"
                        ],
                        "text/html": [
                            "<div>\n",
                            "<style scoped>\n",
                            "    .dataframe tbody tr th:only-of-type {\n",
                            "        vertical-align: middle;\n",
                            "    }\n",
                            "\n",
                            "    .dataframe tbody tr th {\n",
                            "        vertical-align: top;\n",
                            "    }\n",
                            "\n",
                            "    .dataframe thead th {\n",
                            "        text-align: right;\n",
                            "    }\n",
                            "</style>\n",
                            "<table border=\"1\" class=\"dataframe\">\n",
                            "  <thead>\n",
                            "    <tr style=\"text-align: right;\">\n",
                            "      <th></th>\n",
                            "      <th>ID veículos</th>\n",
                            "      <th>Tipo</th>\n",
                            "      <th>Status</th>\n",
                            "    </tr>\n",
                            "  </thead>\n",
                            "  <tbody>\n",
                            "    <tr>\n",
                            "      <th>0</th>\n",
                            "      <td>VEH01</td>\n",
                            "      <td>carro</td>\n",
                            "      <td>Ocupado</td>\n",
                            "    </tr>\n",
                            "    <tr>\n",
                            "      <th>1</th>\n",
                            "      <td>VEH02</td>\n",
                            "      <td>carro</td>\n",
                            "      <td>Ocupado</td>\n",
                            "    </tr>\n",
                            "    <tr>\n",
                            "      <th>2</th>\n",
                            "      <td>VEH03</td>\n",
                            "      <td>caminhonete</td>\n",
                            "      <td>Ocupado</td>\n",
                            "    </tr>\n",
                            "    <tr>\n",
                            "      <th>3</th>\n",
                            "      <td>VEH04</td>\n",
                            "      <td>caminhonete</td>\n",
                            "      <td>Ocupado</td>\n",
                            "    </tr>\n",
                            "    <tr>\n",
                            "      <th>4</th>\n",
                            "      <td>VEH05</td>\n",
                            "      <td>carro</td>\n",
                            "      <td>Ocupado</td>\n",
                            "    </tr>\n",
                            "  </tbody>\n",
                            "</table>\n",
                            "</div>"
                        ]
                    },
                    "metadata": {},
                    "execution_count": 3
                }
            ],
            "metadata": {}
        },
        {
            "cell_type": "markdown",
            "source": [
                "## Vemos que não há dados faltantes na tabela."
            ],
            "metadata": {}
        },
        {
            "cell_type": "code",
            "execution_count": 4,
            "source": [
                "veiculos.info()"
            ],
            "outputs": [
                {
                    "output_type": "stream",
                    "name": "stdout",
                    "text": [
                        "<class 'pandas.core.frame.DataFrame'>\n",
                        "RangeIndex: 50 entries, 0 to 49\n",
                        "Data columns (total 3 columns):\n",
                        " #   Column       Non-Null Count  Dtype \n",
                        "---  ------       --------------  ----- \n",
                        " 0   ID veículos  50 non-null     object\n",
                        " 1   Tipo         50 non-null     object\n",
                        " 2   Status       50 non-null     object\n",
                        "dtypes: object(3)\n",
                        "memory usage: 1.3+ KB\n"
                    ]
                }
            ],
            "metadata": {}
        },
        {
            "cell_type": "code",
            "execution_count": 5,
            "source": [
                "veiculos['Tipo'].value_counts()"
            ],
            "outputs": [
                {
                    "output_type": "execute_result",
                    "data": {
                        "text/plain": [
                            "carro          18\n",
                            "caminhonete    18\n",
                            "moto           14\n",
                            "Name: Tipo, dtype: int64"
                        ]
                    },
                    "metadata": {},
                    "execution_count": 5
                }
            ],
            "metadata": {}
        },
        {
            "cell_type": "code",
            "execution_count": 6,
            "source": [
                "veiculos['Status'].value_counts()"
            ],
            "outputs": [
                {
                    "output_type": "execute_result",
                    "data": {
                        "text/plain": [
                            "Ocupado       42\n",
                            "Disponível     8\n",
                            "Name: Status, dtype: int64"
                        ]
                    },
                    "metadata": {},
                    "execution_count": 6
                }
            ],
            "metadata": {}
        },
        {
            "cell_type": "markdown",
            "source": [
                "Vejo que há três tipos de veículos na empresa: carro, caminhonete e moto. E somente dois estatus possíveis> Ocupado e Disponível.\r\n",
                "\r\n",
                "Não parece haver nenhuma inconsistência nos dados."
            ],
            "metadata": {}
        }
    ],
    "metadata": {
        "orig_nbformat": 4,
        "language_info": {
            "name": "python",
            "version": "3.8.8",
            "mimetype": "text/x-python",
            "codemirror_mode": {
                "name": "ipython",
                "version": 3
            },
            "pygments_lexer": "ipython3",
            "nbconvert_exporter": "python",
            "file_extension": ".py"
        },
        "kernelspec": {
            "name": "python3",
            "display_name": "Python 3.8.8 64-bit ('data_science': conda)"
        },
        "interpreter": {
            "hash": "5e1cf47aa203f6c08ac1e1b9cf16483ccbe851a0d40c55131d078e5221593cd4"
        }
    },
    "nbformat": 4,
    "nbformat_minor": 2
}